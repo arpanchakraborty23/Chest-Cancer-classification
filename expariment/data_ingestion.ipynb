{
 "cells": [
  {
   "cell_type": "code",
   "execution_count": 1,
   "metadata": {},
   "outputs": [],
   "source": [
    "import os"
   ]
  },
  {
   "cell_type": "code",
   "execution_count": 2,
   "metadata": {},
   "outputs": [
    {
     "data": {
      "text/plain": [
       "'d:\\\\Chest-Cancer-classification\\\\expariment'"
      ]
     },
     "execution_count": 2,
     "metadata": {},
     "output_type": "execute_result"
    }
   ],
   "source": [
    "pwd"
   ]
  },
  {
   "cell_type": "code",
   "execution_count": 3,
   "metadata": {},
   "outputs": [],
   "source": [
    "os.chdir('../')"
   ]
  },
  {
   "cell_type": "code",
   "execution_count": 4,
   "metadata": {},
   "outputs": [
    {
     "data": {
      "text/plain": [
       "'d:\\\\Chest-Cancer-classification'"
      ]
     },
     "execution_count": 4,
     "metadata": {},
     "output_type": "execute_result"
    }
   ],
   "source": [
    "pwd"
   ]
  },
  {
   "cell_type": "code",
   "execution_count": 54,
   "metadata": {},
   "outputs": [],
   "source": [
    "from dataclasses import dataclass\n",
    "from pathlib import Path\n",
    "\n",
    "#define data path\n",
    "@dataclass(frozen=True)\n",
    "class DataIngestionConfig:\n",
    "    dir :Path\n",
    "    source_url: str\n",
    "    local_data_file: Path\n",
    "    unzip_dir: Path\n"
   ]
  },
  {
   "cell_type": "code",
   "execution_count": 55,
   "metadata": {},
   "outputs": [],
   "source": [
    "\n",
    "from src.utils.main_utils import read_yaml,create_dir"
   ]
  },
  {
   "cell_type": "code",
   "execution_count": 56,
   "metadata": {},
   "outputs": [],
   "source": [
    "from src.constant import *\n",
    "import sys"
   ]
  },
  {
   "cell_type": "code",
   "execution_count": 57,
   "metadata": {},
   "outputs": [],
   "source": [
    "from src.logging.logger import logging\n",
    "from src.exception.exception import CustomException\n",
    "import zipfile\n",
    "import sys,os"
   ]
  },
  {
   "cell_type": "code",
   "execution_count": 58,
   "metadata": {},
   "outputs": [],
   "source": [
    "\n",
    "class ConfigurationManager:\n",
    "    def __init__(\n",
    "        self,\n",
    "        config_filepath = CONFIG_FILE_PATH,\n",
    "        params_filepath = PARAMS_FILE_PATH):\n",
    "\n",
    "        self.config = read_yaml(config_filepath)\n",
    "        self.params = read_yaml(params_filepath)\n",
    "\n",
    "        create_dir([self.config.artifacts_root])\n",
    "\n",
    "\n",
    "    \n",
    "    def get_data_ingestion_config(self) -> DataIngestionConfig:\n",
    "        config = self.config.data_ingestion\n",
    "\n",
    "        create_dir([config.dir])\n",
    "\n",
    "        data_ingestion_config = DataIngestionConfig(\n",
    "            dir=config.dir,\n",
    "           source_url=config.source_url,\n",
    "           local_data_file  =config.local_data_file,\n",
    "            unzip_dir=config.unzip_dir \n",
    "        )\n",
    "\n",
    "        return data_ingestion_config"
   ]
  },
  {
   "cell_type": "code",
   "execution_count": 64,
   "metadata": {},
   "outputs": [],
   "source": [
    "import urllib.request as request\n",
    "import gdown"
   ]
  },
  {
   "cell_type": "code",
   "execution_count": 73,
   "metadata": {},
   "outputs": [],
   "source": [
    "class DataIngestion:\n",
    "    def __init__(self,config:DataIngestionConfig) -> None:\n",
    "        \n",
    "        self.config=config\n",
    "\n",
    "    def download_file(self):\n",
    "        '''\n",
    "        fetch data from url\n",
    "        '''\n",
    "        try:\n",
    "            dataset_url=self.config.source_url\n",
    "            zip_download=self.config.local_data_file\n",
    "            os.makedirs(self.config.dir,exist_ok=True)\n",
    "            logging.info(f'Download da from {dataset_url} into {zip_download} ')\n",
    "\n",
    "            \n",
    "            prefix='https://drive.google.com/uc?/export=download&id='\n",
    "            id=dataset_url.split('/')[5]\n",
    "            gdown.download(prefix+id,zip_download)\n",
    "\n",
    "            logging.info\n",
    "        except Exception as e:\n",
    "            logging.info('error occured ', e)\n",
    "            raise CustomException(sys,e) \n",
    "        \n",
    "\n",
    "    def extrat_zip_file(self):\n",
    "        try:\n",
    "            unzip_path = self.config.unzip_dir\n",
    "            os.makedirs(unzip_path, exist_ok=True)\n",
    "            with zipfile.ZipFile(self.config.local_data_file, 'r') as zip_ref:\n",
    "                zip_ref.extractall(unzip_path)\n",
    "\n",
    "        except Exception as e:\n",
    "            logging.error(f'Error occurred: {e}')  \n",
    "            raise CustomException(sys, e)"
   ]
  },
  {
   "cell_type": "code",
   "execution_count": 74,
   "metadata": {},
   "outputs": [
    {
     "name": "stderr",
     "output_type": "stream",
     "text": [
      "Downloading...\n",
      "From (original): https://drive.google.com/uc?/export=download&id=1ZrFE6RSlNerUfwexpGlhc2r3haiV-CIz\n",
      "From (redirected): https://drive.google.com/uc?%2Fexport=download&id=1ZrFE6RSlNerUfwexpGlhc2r3haiV-CIz&confirm=t&uuid=4532c522-5a7a-4232-9c86-925c3357d6ee\n",
      "To: d:\\Chest-Cancer-classification\\artifacts\\data_ingestion\\data.zip\n",
      "100%|██████████| 124M/124M [01:02<00:00, 1.98MB/s] \n"
     ]
    }
   ],
   "source": [
    "try:\n",
    "    config = ConfigurationManager()\n",
    "    data_ingestion_config = config.get_data_ingestion_config()\n",
    "    data_ingestion = DataIngestion(config=data_ingestion_config)\n",
    "    data_ingestion.download_file()\n",
    "    data_ingestion.extrat_zip_file()\n",
    "except Exception as e:\n",
    "    logging.info(f' Error in {str(e)}')\n",
    "    raise CustomException(sys,e)\n",
    "   "
   ]
  },
  {
   "cell_type": "markdown",
   "metadata": {},
   "source": []
  },
  {
   "cell_type": "code",
   "execution_count": null,
   "metadata": {},
   "outputs": [],
   "source": []
  }
 ],
 "metadata": {
  "kernelspec": {
   "display_name": "Python 3",
   "language": "python",
   "name": "python3"
  },
  "language_info": {
   "codemirror_mode": {
    "name": "ipython",
    "version": 3
   },
   "file_extension": ".py",
   "mimetype": "text/x-python",
   "name": "python",
   "nbconvert_exporter": "python",
   "pygments_lexer": "ipython3",
   "version": "3.10.0"
  }
 },
 "nbformat": 4,
 "nbformat_minor": 2
}
