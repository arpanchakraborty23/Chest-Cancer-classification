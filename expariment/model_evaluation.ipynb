{
 "cells": [
  {
   "cell_type": "code",
   "execution_count": 3,
   "metadata": {},
   "outputs": [],
   "source": [
    "import os,sys"
   ]
  },
  {
   "cell_type": "code",
   "execution_count": 1,
   "metadata": {},
   "outputs": [
    {
     "data": {
      "text/plain": [
       "'d:\\\\Chest-Cancer-classification\\\\expariment'"
      ]
     },
     "execution_count": 1,
     "metadata": {},
     "output_type": "execute_result"
    }
   ],
   "source": [
    "pwd"
   ]
  },
  {
   "cell_type": "code",
   "execution_count": 4,
   "metadata": {},
   "outputs": [],
   "source": [
    "os.chdir('../')\n"
   ]
  },
  {
   "cell_type": "code",
   "execution_count": 5,
   "metadata": {},
   "outputs": [
    {
     "data": {
      "text/plain": [
       "'d:\\\\Chest-Cancer-classification'"
      ]
     },
     "execution_count": 5,
     "metadata": {},
     "output_type": "execute_result"
    }
   ],
   "source": [
    "pwd\n"
   ]
  },
  {
   "cell_type": "code",
   "execution_count": null,
   "metadata": {},
   "outputs": [],
   "source": []
  },
  {
   "cell_type": "code",
   "execution_count": 77,
   "metadata": {},
   "outputs": [],
   "source": [
    "\n",
    "os.environ[\"MLFLOW_TRACKING_URI\"]='https://dagshub.com/arpanchakraborty23/Chest-Cancer-classification.mlflow '\n",
    "os.environ[\"MLFLOW_TRACKING_USERNAME\"]=\"arpanchakraborty23\"\n",
    "os.environ[\"MLFLOW_TRACKING_PASSWORD\"]='c0bea69b1b22e7ab1aa901fe69431974b56f94a6'"
   ]
  },
  {
   "cell_type": "code",
   "execution_count": 57,
   "metadata": {},
   "outputs": [],
   "source": [
    "import tensorflow as tf"
   ]
  },
  {
   "cell_type": "code",
   "execution_count": 39,
   "metadata": {},
   "outputs": [],
   "source": [
    "from tensorflow import keras\n",
    "from keras.models import load_model"
   ]
  },
  {
   "cell_type": "code",
   "execution_count": 40,
   "metadata": {},
   "outputs": [
    {
     "name": "stderr",
     "output_type": "stream",
     "text": [
      "WARNING:absl:Compiled the loaded model, but the compiled metrics have yet to be built. `model.compile_metrics` will be empty until you train or evaluate the model.\n"
     ]
    }
   ],
   "source": [
    "model=load_model('model\\model.h5')"
   ]
  },
  {
   "cell_type": "code",
   "execution_count": 72,
   "metadata": {},
   "outputs": [],
   "source": [
    "from dataclasses import dataclass\n",
    "from pathlib import Path\n",
    "\n",
    "@dataclass\n",
    "class EvaluationConfig:\n",
    "    path_of_model: Path\n",
    "    train_data:Path\n",
    "    all_params: dict\n",
    "    mlflow_url:str\n",
    "    image_size:list\n",
    "    batch_size:int\n"
   ]
  },
  {
   "cell_type": "code",
   "execution_count": 66,
   "metadata": {},
   "outputs": [],
   "source": [
    "from src.utils.main_utils import read_yaml,create_dir,save_json\n",
    "from src.constant import *"
   ]
  },
  {
   "cell_type": "code",
   "execution_count": 73,
   "metadata": {},
   "outputs": [],
   "source": [
    "class ConfigManager:\n",
    "    def __init__(self,\n",
    "                 config_path=CONFIG_FILE_PATH,\n",
    "                 param_path=PARAMS_FILE_PATH) -> None:\n",
    "        self.config=read_yaml(config_path)\n",
    "        self.param=read_yaml(param_path)\n",
    "\n",
    "        create_dir([self.config.artifacts_root])\n",
    "\n",
    "    def get_eval_config(self)-> EvaluationConfig:\n",
    "        eval_config=EvaluationConfig(\n",
    "            path_of_model='model/model.h5',\n",
    "            train_data='artifacts\\data_ingestion\\Chest-CT-Scan-data',\n",
    "            mlflow_url='https://dagshub.com/arpanchakraborty23/Chest-Cancer-classification.mlflow',\n",
    "            all_params=self.param,\n",
    "            image_size=self.param.IMAGE_SIZE,\n",
    "            batch_size=self.param.BATCH_SIZE\n",
    "        )    \n",
    "\n",
    "        return eval_config"
   ]
  },
  {
   "cell_type": "code",
   "execution_count": 74,
   "metadata": {},
   "outputs": [],
   "source": [
    "import mlflow\n",
    "import mlflow.sklearn\n",
    "import mlflow.keras\n",
    "from urllib.parse import urlparse"
   ]
  },
  {
   "cell_type": "code",
   "execution_count": 75,
   "metadata": {},
   "outputs": [],
   "source": [
    "class Evaluation:\n",
    "    def __init__(self,config:EvaluationConfig) -> None:\n",
    "        self.config=config\n",
    "\n",
    "    def valid_genrator_fun(self):\n",
    "           \n",
    "            datagenerator_kwargs = dict(\n",
    "                rescale = 1./255,\n",
    "                validation_split=0.30\n",
    "            )\n",
    "\n",
    "            dataflow_kwargs = dict(\n",
    "                target_size=self.config.image_size[:-1],\n",
    "                batch_size=self.config.batch_size,\n",
    "                interpolation=\"bilinear\"\n",
    "            )\n",
    "\n",
    "            valid_datagenerator = tf.keras.preprocessing.image.ImageDataGenerator(\n",
    "                **datagenerator_kwargs\n",
    "            )\n",
    "\n",
    "            self.valid_generator = valid_datagenerator.flow_from_directory(\n",
    "                directory=self.config.train_data,\n",
    "                subset=\"validation\",\n",
    "                shuffle=False,\n",
    "                **dataflow_kwargs\n",
    "            )\n",
    "\n",
    "    @staticmethod\n",
    "    def load_model(path:Path):\n",
    "         return load_model(path)\n",
    "\n",
    "    def evaluation(self):\n",
    "         self.model=self.load_model(self.config.path_of_model)\n",
    "         self.valid_genrator_fun()\n",
    "         self.score=model.evaluate(self.valid_generator)\n",
    "         self.save_score()\n",
    "\n",
    "    def save_score(self):\n",
    "         scores={f'loss :{self.score[0]}, accuracy {self.save_score[1]}'}\n",
    "\n",
    "         save_json(path=Path('score.json'),data=scores)\n",
    "\n",
    "    def log_to_mlflow(self):\n",
    "         mlflow.set_registry_uri(self.config.mlflow_url)\n",
    "         track_url_type=urlparse(mlflow.get_tracking_uri()).scheme\n",
    "\n",
    "         with mlflow.start_run():\n",
    "              mlflow.log_param(self.config.all_params)\n",
    "              mlflow.log_metrics(\n",
    "                   f'loss :{self.score[0]}, accuracy {self.save_score[1]}'\n",
    "              )\n",
    "              if track_url_type !='file':\n",
    "                   mlflow.keras.log_model(self.model,registered_model_name=\"VGG16Model\")\n",
    "\n",
    "              else:\n",
    "                   mlflow.keras.load_model(self.model,'model')\n",
    "\n"
   ]
  },
  {
   "cell_type": "code",
   "execution_count": 78,
   "metadata": {},
   "outputs": [
    {
     "name": "stderr",
     "output_type": "stream",
     "text": [
      "WARNING:absl:Compiled the loaded model, but the compiled metrics have yet to be built. `model.compile_metrics` will be empty until you train or evaluate the model.\n"
     ]
    },
    {
     "name": "stdout",
     "output_type": "stream",
     "text": [
      "Found 102 images belonging to 2 classes.\n",
      "\u001b[1m7/7\u001b[0m \u001b[32m━━━━━━━━━━━━━━━━━━━━\u001b[0m\u001b[37m\u001b[0m \u001b[1m52s\u001b[0m 7s/step - accuracy: 0.7966 - loss: 0.4781\n"
     ]
    },
    {
     "ename": "TypeError",
     "evalue": "'method' object is not subscriptable",
     "output_type": "error",
     "traceback": [
      "\u001b[1;31m---------------------------------------------------------------------------\u001b[0m",
      "\u001b[1;31mTypeError\u001b[0m                                 Traceback (most recent call last)",
      "Cell \u001b[1;32mIn[78], line 8\u001b[0m\n\u001b[0;32m      6\u001b[0m     evaluation\u001b[38;5;241m.\u001b[39mlog_to_mlflow()\n\u001b[0;32m      7\u001b[0m \u001b[38;5;28;01mexcept\u001b[39;00m \u001b[38;5;167;01mException\u001b[39;00m \u001b[38;5;28;01mas\u001b[39;00m e:\n\u001b[1;32m----> 8\u001b[0m     \u001b[38;5;28;01mraise\u001b[39;00m e\n",
      "Cell \u001b[1;32mIn[78], line 5\u001b[0m\n\u001b[0;32m      3\u001b[0m     eval_config\u001b[38;5;241m=\u001b[39mconfig\u001b[38;5;241m.\u001b[39mget_eval_config()\n\u001b[0;32m      4\u001b[0m     evaluation\u001b[38;5;241m=\u001b[39mEvaluation(eval_config)\n\u001b[1;32m----> 5\u001b[0m     \u001b[43mevaluation\u001b[49m\u001b[38;5;241;43m.\u001b[39;49m\u001b[43mevaluation\u001b[49m\u001b[43m(\u001b[49m\u001b[43m)\u001b[49m\n\u001b[0;32m      6\u001b[0m     evaluation\u001b[38;5;241m.\u001b[39mlog_to_mlflow()\n\u001b[0;32m      7\u001b[0m \u001b[38;5;28;01mexcept\u001b[39;00m \u001b[38;5;167;01mException\u001b[39;00m \u001b[38;5;28;01mas\u001b[39;00m e:\n",
      "Cell \u001b[1;32mIn[75], line 37\u001b[0m, in \u001b[0;36mEvaluation.evaluation\u001b[1;34m(self)\u001b[0m\n\u001b[0;32m     35\u001b[0m \u001b[38;5;28mself\u001b[39m\u001b[38;5;241m.\u001b[39mvalid_genrator_fun()\n\u001b[0;32m     36\u001b[0m \u001b[38;5;28mself\u001b[39m\u001b[38;5;241m.\u001b[39mscore\u001b[38;5;241m=\u001b[39mmodel\u001b[38;5;241m.\u001b[39mevaluate(\u001b[38;5;28mself\u001b[39m\u001b[38;5;241m.\u001b[39mvalid_generator)\n\u001b[1;32m---> 37\u001b[0m \u001b[38;5;28;43mself\u001b[39;49m\u001b[38;5;241;43m.\u001b[39;49m\u001b[43msave_score\u001b[49m\u001b[43m(\u001b[49m\u001b[43m)\u001b[49m\n",
      "Cell \u001b[1;32mIn[75], line 40\u001b[0m, in \u001b[0;36mEvaluation.save_score\u001b[1;34m(self)\u001b[0m\n\u001b[0;32m     39\u001b[0m \u001b[38;5;28;01mdef\u001b[39;00m \u001b[38;5;21msave_score\u001b[39m(\u001b[38;5;28mself\u001b[39m):\n\u001b[1;32m---> 40\u001b[0m      scores\u001b[38;5;241m=\u001b[39m{\u001b[38;5;124mf\u001b[39m\u001b[38;5;124m'\u001b[39m\u001b[38;5;124mloss :\u001b[39m\u001b[38;5;132;01m{\u001b[39;00m\u001b[38;5;28mself\u001b[39m\u001b[38;5;241m.\u001b[39mscore[\u001b[38;5;241m0\u001b[39m]\u001b[38;5;132;01m}\u001b[39;00m\u001b[38;5;124m, accuracy \u001b[39m\u001b[38;5;132;01m{\u001b[39;00m\u001b[38;5;28mself\u001b[39m\u001b[38;5;241m.\u001b[39msave_score[\u001b[38;5;241m1\u001b[39m]\u001b[38;5;132;01m}\u001b[39;00m\u001b[38;5;124m'\u001b[39m}\n\u001b[0;32m     42\u001b[0m      save_json(path\u001b[38;5;241m=\u001b[39mPath(\u001b[38;5;124m'\u001b[39m\u001b[38;5;124mscore.json\u001b[39m\u001b[38;5;124m'\u001b[39m),data\u001b[38;5;241m=\u001b[39mscores)\n",
      "\u001b[1;31mTypeError\u001b[0m: 'method' object is not subscriptable"
     ]
    }
   ],
   "source": [
    "try:\n",
    "    config=ConfigManager()\n",
    "    eval_config=config.get_eval_config()\n",
    "    evaluation=Evaluation(eval_config)\n",
    "    evaluation.evaluation()\n",
    "    evaluation.log_to_mlflow()\n",
    "except Exception as e:\n",
    "    raise e"
   ]
  },
  {
   "cell_type": "code",
   "execution_count": null,
   "metadata": {},
   "outputs": [],
   "source": []
  }
 ],
 "metadata": {
  "kernelspec": {
   "display_name": "Python 3",
   "language": "python",
   "name": "python3"
  },
  "language_info": {
   "codemirror_mode": {
    "name": "ipython",
    "version": 3
   },
   "file_extension": ".py",
   "mimetype": "text/x-python",
   "name": "python",
   "nbconvert_exporter": "python",
   "pygments_lexer": "ipython3",
   "version": "3.10.0"
  }
 },
 "nbformat": 4,
 "nbformat_minor": 2
}
